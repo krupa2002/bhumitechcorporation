{
  "nbformat": 4,
  "nbformat_minor": 0,
  "metadata": {
    "colab": {
      "provenance": [],
      "authorship_tag": "ABX9TyOSFhUuRIoF/5Cv7gC7WNBn",
      "include_colab_link": true
    },
    "kernelspec": {
      "name": "python3",
      "display_name": "Python 3"
    },
    "language_info": {
      "name": "python"
    }
  },
  "cells": [
    {
      "cell_type": "markdown",
      "metadata": {
        "id": "view-in-github",
        "colab_type": "text"
      },
      "source": [
        "<a href=\"https://colab.research.google.com/github/krupa2002/bhumitechcorporation/blob/main/Bhumitech_Corporation_QRCode.ipynb\" target=\"_parent\"><img src=\"https://colab.research.google.com/assets/colab-badge.svg\" alt=\"Open In Colab\"/></a>"
      ]
    },
    {
      "cell_type": "markdown",
      "source": [
        "# QR Code Business_Vcard"
      ],
      "metadata": {
        "id": "kq8o5K8b0l08"
      }
    },
    {
      "cell_type": "markdown",
      "source": [
        "## Bhumitech Corporation"
      ],
      "metadata": {
        "id": "pUMqH7nf0yzG"
      }
    },
    {
      "cell_type": "code",
      "source": [
        "!pip install qrcode\n",
        "import qrcode"
      ],
      "metadata": {
        "colab": {
          "base_uri": "https://localhost:8080/"
        },
        "id": "4hE57knUAn4k",
        "outputId": "42e42033-106e-49d0-eb04-0bcd010bbcef"
      },
      "execution_count": 8,
      "outputs": [
        {
          "output_type": "stream",
          "name": "stdout",
          "text": [
            "Requirement already satisfied: qrcode in /usr/local/lib/python3.11/dist-packages (8.0)\n"
          ]
        }
      ]
    },
    {
      "cell_type": "code",
      "source": [
        "import qrcode\n",
        "\n",
        "qr_text = \"\"\"BEGIN:VCARD\n",
        "VERSION:3.0\n",
        "N:Dharamshi;Nilesh;;;\n",
        "FN:Nilesh Dharamshi\n",
        "ORG:Bhumitech Corporation\n",
        "TITLE:Owner, Premium Solutions for Stone & Marble Polishing\n",
        "ADR:;;Shop No. 2, Shastri Nagar, Near Sahara Star Hotel, W.E Highway, Vile Parle East, Mumbai - 400099\n",
        "TEL:+91 9324926255\n",
        "EMAIL:nileshd853@gmail.com\n",
        "URL:https://maps.app.goo.gl/6JF8xG79g9N312wd6\n",
        "NOTE:Polishing Machinery, Abrasives, Diamond Pads, Brushes, Mastics, Sealers, Shiners & Saw Blades.\n",
        "END:VCARD\"\"\"\n",
        "\n",
        "# Generate QR code\n",
        "qr = qrcode.make(qr_text)\n",
        "\n",
        "# Save as an image\n",
        "qr.save(\"business_vcard_new.png\")\n",
        "\n",
        "print(\"QR Code with Owner Name generated successfully!\")\n"
      ],
      "metadata": {
        "colab": {
          "base_uri": "https://localhost:8080/"
        },
        "id": "iu2bpewwEq-V",
        "outputId": "b160ff1e-b124-4097-a98b-2c34b6a2f36c"
      },
      "execution_count": 9,
      "outputs": [
        {
          "output_type": "stream",
          "name": "stdout",
          "text": [
            "QR Code with Owner Name generated successfully!\n"
          ]
        }
      ]
    },
    {
      "cell_type": "code",
      "source": [],
      "metadata": {
        "id": "VbiRcyDDzylR"
      },
      "execution_count": 7,
      "outputs": []
    }
  ]
}